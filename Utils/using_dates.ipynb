{
 "cells": [
  {
   "cell_type": "code",
   "execution_count": 2,
   "metadata": {},
   "outputs": [],
   "source": [
    "import pandas as pd"
   ]
  },
  {
   "cell_type": "code",
   "execution_count": 3,
   "metadata": {},
   "outputs": [],
   "source": [
    "filter_names = ['gold', 'dji', 'mcsf', 'oil', 'shanghai', 'sp500']"
   ]
  },
  {
   "cell_type": "code",
   "execution_count": 13,
   "metadata": {},
   "outputs": [],
   "source": [
    "filtered_dates = set()\n",
    "for name in filter_names:\n",
    "    filtered_df = pd.read_csv(f'..\\Res\\{name}.csv')\n",
    "    if name not in ['gold', 'shanghai', 'sp500']:\n",
    "        filtered_df = filtered_df.loc[(filtered_df.Volume > -0.0001)]\n",
    "    dates = filtered_df[\"Date\"]\n",
    "    if len(filtered_dates) == 0:\n",
    "        filtered_dates = set([date.strip() for date in dates])\n",
    "        continue\n",
    "    filtered_dates = filtered_dates.intersection(set([date.strip() for date in dates]))\n",
    "dates = list(filtered_dates)\n",
    "dates = sorted(dates)"
   ]
  },
  {
   "cell_type": "code",
   "execution_count": 17,
   "metadata": {},
   "outputs": [],
   "source": [
    "with open(r'..\\Res\\dates.csv', mode='w', encoding=\"utf8\") as dates_file:\n",
    "    dates_file.write('Date\\n')\n",
    "    for date in dates:\n",
    "        dates_file.write(date + '\\n')"
   ]
  }
 ],
 "metadata": {
  "kernelspec": {
   "display_name": "Python 3",
   "language": "python",
   "name": "python3"
  },
  "language_info": {
   "codemirror_mode": {
    "name": "ipython",
    "version": 3
   },
   "file_extension": ".py",
   "mimetype": "text/x-python",
   "name": "python",
   "nbconvert_exporter": "python",
   "pygments_lexer": "ipython3",
   "version": "3.7.3"
  }
 },
 "nbformat": 4,
 "nbformat_minor": 2
}
