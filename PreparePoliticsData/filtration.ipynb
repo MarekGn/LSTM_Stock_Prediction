{
 "cells": [
  {
   "cell_type": "code",
   "execution_count": 1,
   "metadata": {},
   "outputs": [],
   "source": [
    "import pandas as pd\n",
    "import numpy as np\n",
    "import csv"
   ]
  },
  {
   "cell_type": "code",
   "execution_count": 2,
   "metadata": {},
   "outputs": [],
   "source": [
    "filtered_df = pd.read_csv('..\\Res\\gold.csv')"
   ]
  },
  {
   "cell_type": "code",
   "execution_count": 3,
   "metadata": {},
   "outputs": [],
   "source": [
    "dates = filtered_df[\"Date\"]"
   ]
  },
  {
   "cell_type": "code",
   "execution_count": 4,
   "metadata": {},
   "outputs": [
    {
     "data": {
      "text/plain": [
       "True"
      ]
     },
     "execution_count": 4,
     "metadata": {},
     "output_type": "execute_result"
    }
   ],
   "source": [
    "filtered_dates = set([date.replace('-', '') for date in dates])\n",
    "'19950102' in filtered_dates"
   ]
  },
  {
   "cell_type": "code",
   "execution_count": 11,
   "metadata": {},
   "outputs": [],
   "source": [
    "def year(date):\n",
    "    return date[:4]\n",
    "\n",
    "def month(date):\n",
    "    return date[:6]\n",
    "\n",
    "def isUSA(country):\n",
    "    return 1.05 if 'USA' == country else 1.\n",
    "\n",
    "def isUS(country):\n",
    "    return 1.05 if 'US' == country else 1.\n",
    "\n",
    "def f(x):\n",
    "    d = {}\n",
    "    d['AllNumMentions'] = x['AllNumMentions'].sum()\n",
    "    d['Goldstein'] = x['goldsteinscale'].mean()\n",
    "    d['MonthYear'] = x['monthyear'].mean()\n",
    "    return pd.Series(d)\n",
    "\n",
    "def to_base(cameo_code):\n",
    "    if cameo_code.startswith('0'):\n",
    "        cameo_code = cameo_code[1]\n",
    "    else:\n",
    "        cameo_code = cameo_code[:2]\n",
    "    return cameo_code\n",
    "\n",
    "sign = lambda x: (1, -1)[x < 0]"
   ]
  },
  {
   "cell_type": "code",
   "execution_count": null,
   "metadata": {},
   "outputs": [],
   "source": [
    "def normalizations(df):\n",
    "    norm_df = "
   ]
  },
  {
   "cell_type": "code",
   "execution_count": null,
   "metadata": {},
   "outputs": [],
   "source": [
    "full_df = pd.DataFrame()\n",
    "for part in range(1, 27):\n",
    "    df = pd.read_csv(f'..\\Res\\exports_all_part{part}.csv', \n",
    "                  sep='\\t', \n",
    "                  names=['globaleventid', 'day', 'monthyear', 'actor1name', 'actor1countrycode', 'actor2name', 'actor2countrycode',\n",
    "                        'eventcode', 'eventbasecode',\n",
    "                        'eventrootcode', 'goldsteinscale', 'nummentions', 'numsources', 'avgtone', 'actor1geo_fullname',\n",
    "                        'actor1geo_countrycode', 'actor2geo_fullname', 'actor2geo_countrycode', 'actiongeo_fullname',\n",
    "                        'actiongeo_countrycode'],\n",
    "                dtype={'globaleventid':str, 'day':str, 'monthyear':str, 'actor1name':str, 'actor1countrycode':str, 'actor2name':str, 'actor2countrycode':str,\n",
    "                        'eventcode':str, 'eventbasecode':str,\n",
    "                        'eventrootcode':str, 'goldsteinscale':float, 'nummentions':int, 'numsources':int, 'avgtone':float, 'actor1geo_fullname':str,\n",
    "                        'actor1geo_countrycode':str, 'actor2geo_fullname':str, 'actor2geo_countrycode':str, 'actiongeo_fullname':str,\n",
    "                        'actiongeo_countrycode':str})\n",
    "    del df['globaleventid']\n",
    "    del df['actor1name']\n",
    "    del df['actor2name']\n",
    "    del df['eventbasecode']\n",
    "    del df['actor1geo_fullname']\n",
    "    del df['actor2geo_fullname']\n",
    "    del df['actiongeo_fullname']\n",
    "    del df['actor2geo_countrycode']\n",
    "    del df['actor1geo_countrycode']\n",
    "    del df['avgtone']\n",
    "    \n",
    "    df['year'] = df['day'].apply(year).astype('int')\n",
    "    df['monthyear'] = df['monthyear'].astype('int')\n",
    "    df['day'] = df['day'].astype('int')\n",
    "\n",
    "    df['AllNumMentions'] = (df['numsources'] + df['nummentions']) * df['actor1countrycode'].apply(isUSA) * df['actor2countrycode'].apply(isUSA) * df['actiongeo_countrycode'].apply(isUS)\n",
    "    \n",
    "    del df['actor1countrycode']\n",
    "    del df['actor2countrycode']\n",
    "    del df['actiongeo_countrycode']\n",
    "    del df['eventrootcode']\n",
    "    \n",
    "    df = df.dropna()\n",
    "    \n",
    "    df = df.groupby(['day', 'eventcode']).apply(f).reset_index()\n",
    "    \n",
    "    df['BaseCode'] = df['eventcode'].apply(to_base)\n",
    "    \n",
    "    df['Coeff'] = df['AllNumMentions'] * np.power(1.3,abs(df['Goldstein'])) * df['Goldstein'].apply(sign)\n",
    "\n",
    "    del df['eventcode']\n",
    "    del df['AllNumMentions']\n",
    "    del df['Goldstein']\n",
    "    \n",
    "    df = df.groupby(['day', 'BaseCode']).sum().reset_index()\n",
    "    full_df = full_df.append(df)\n",
    "    print(f'{part}. iteration ended.')\n",
    "    part += 1 "
   ]
  }
 ],
 "metadata": {
  "kernelspec": {
   "display_name": "Python 3",
   "language": "python",
   "name": "python3"
  },
  "language_info": {
   "codemirror_mode": {
    "name": "ipython",
    "version": 3
   },
   "file_extension": ".py",
   "mimetype": "text/x-python",
   "name": "python",
   "nbconvert_exporter": "python",
   "pygments_lexer": "ipython3",
   "version": "3.7.3"
  }
 },
 "nbformat": 4,
 "nbformat_minor": 2
}
